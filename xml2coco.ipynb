{
 "cells": [
  {
   "cell_type": "code",
   "execution_count": 6,
   "metadata": {},
   "outputs": [],
   "source": [
    "from fastai.vision import *\n",
    "from fastai.vision.all import *\n",
    "\n",
    "from sahi.utils.coco import Coco, CocoCategory, CocoImage, CocoAnnotation\n",
    "from sahi.utils.file import save_json\n",
    "from PIL import Image\n",
    "import json\n",
    "import xmltodict"
   ]
  },
  {
   "cell_type": "code",
   "execution_count": 7,
   "metadata": {},
   "outputs": [],
   "source": [
    "# read xml data\n",
    "fname = 'airport'\n",
    "fname_xml = './data_for_dem/'+fname+'.xml'\n",
    "fname_json = './data_for_dem/'+fname+'.json'\n",
    "fname_png = './data_for_dem/'+fname+'.png'\n",
    "fname_coco = './data_for_dem/'+fname+'_coco.json'\n",
    "with open(fname_xml) as xml_file:\n",
    "    xml_dict = xmltodict.parse(xml_file.read())"
   ]
  },
  {
   "cell_type": "code",
   "execution_count": 8,
   "metadata": {},
   "outputs": [
    {
     "data": {
      "text/plain": [
       "{'type': 'bndbox',\n",
       " 'name': 'building',\n",
       " 'pose': 'Unspecified',\n",
       " 'truncated': '0',\n",
       " 'difficult': '0',\n",
       " 'bndbox': {'xmin': '970', 'ymin': '113', 'xmax': '990', 'ymax': '131'}}"
      ]
     },
     "execution_count": 8,
     "metadata": {},
     "output_type": "execute_result"
    }
   ],
   "source": [
    "obs = xml_dict['annotation']['object'][0]\n",
    "obs"
   ]
  },
  {
   "cell_type": "code",
   "execution_count": 12,
   "metadata": {},
   "outputs": [
    {
     "name": "stdout",
     "output_type": "stream",
     "text": [
      "bndbox | building\n",
      "bndbox | building\n",
      "bndbox | building\n",
      "bndbox | building\n",
      "bndbox | building\n",
      "bndbox | building\n",
      "bndbox | building\n",
      "bndbox | building\n",
      "bndbox | building\n",
      "bndbox | building\n",
      "bndbox | building\n",
      "bndbox | building\n",
      "bndbox | building\n",
      "bndbox | building\n",
      "bndbox | building\n",
      "bndbox | building\n",
      "bndbox | building\n",
      "bndbox | building\n",
      "bndbox | building\n",
      "bndbox | building\n",
      "bndbox | building\n",
      "bndbox | building\n",
      "bndbox | building\n",
      "bndbox | building\n",
      "bndbox | building\n",
      "bndbox | building\n",
      "bndbox | building\n",
      "bndbox | building\n",
      "bndbox | building\n",
      "bndbox | building\n",
      "bndbox | building\n",
      "bndbox | building\n",
      "bndbox | building\n",
      "bndbox | building\n",
      "bndbox | building\n",
      "bndbox | building\n",
      "bndbox | building\n",
      "bndbox | building\n",
      "bndbox | building\n",
      "bndbox | building\n",
      "bndbox | building\n",
      "bndbox | building\n",
      "bndbox | building\n",
      "bndbox | building\n",
      "bndbox | building\n",
      "bndbox | building\n",
      "bndbox | building\n",
      "bndbox | building\n",
      "bndbox | building\n",
      "bndbox | building\n",
      "bndbox | building\n",
      "bndbox | building\n",
      "bndbox | building\n",
      "bndbox | building\n",
      "bndbox | building\n",
      "bndbox | building\n",
      "bndbox | building\n",
      "bndbox | building\n",
      "bndbox | building\n",
      "bndbox | building\n",
      "bndbox | building\n",
      "bndbox | building\n",
      "bndbox | building\n",
      "bndbox | building\n",
      "bndbox | building\n",
      "bndbox | building\n",
      "bndbox | building\n",
      "bndbox | building\n",
      "bndbox | building\n",
      "bndbox | building\n",
      "bndbox | building\n",
      "bndbox | building\n",
      "bndbox | building\n",
      "bndbox | building\n",
      "bndbox | building\n",
      "bndbox | building\n",
      "bndbox | building\n",
      "bndbox | building\n",
      "bndbox | building\n",
      "bndbox | car\n",
      "bndbox | car\n",
      "bndbox | car\n",
      "bndbox | car\n",
      "bndbox | car\n",
      "bndbox | car\n",
      "bndbox | car\n",
      "bndbox | car\n",
      "bndbox | car\n",
      "bndbox | car\n",
      "bndbox | car\n",
      "bndbox | car\n",
      "bndbox | car\n",
      "bndbox | car\n"
     ]
    }
   ],
   "source": [
    "# Init Coco object\n",
    "coco = Coco()\n",
    "\n",
    "# Add the names of the categories from the xml dict to the coco object\n",
    "idx = 0\n",
    "categories = []\n",
    "for obs in xml_dict['annotation']['object']:\n",
    "    if obs['name'] not in categories:\n",
    "        categories.append(obs['name'])\n",
    "        coco.add_category(CocoCategory(id=idx, name=obs['name']))\n",
    "        idx = idx + 1\n",
    "\n",
    "coco_image = CocoImage(file_name=fname_png, \n",
    "                       height=xml_dict['annotation']['size']['height'], \n",
    "                       width=xml_dict['annotation']['size']['width'])\n",
    "\n",
    "for obs in xml_dict['annotation']['object']:\n",
    "    if obs['type']=='bndbox':\n",
    "        print(obs['type']+' | '+obs['name'])\n",
    "        bbox=[int(obs['bndbox']['xmin']), \n",
    "                int(obs['bndbox']['ymin']), \n",
    "                int(obs['bndbox']['xmax'])-int(obs['bndbox']['xmin']), \n",
    "                int(obs['bndbox']['ymax'])-int(obs['bndbox']['ymin'])]\n",
    "        coco_image.add_annotation(\n",
    "            CocoAnnotation(\n",
    "            bbox=bbox,\n",
    "            category_id=0,\n",
    "            category_name=obs['name']\n",
    "            )\n",
    "        )\n",
    "    \n",
    "coco.add_image(coco_image)\n"
   ]
  },
  {
   "cell_type": "code",
   "execution_count": 10,
   "metadata": {},
   "outputs": [],
   "source": [
    "save_json(data=coco.json, save_path=fname_coco)"
   ]
  }
 ],
 "metadata": {
  "kernelspec": {
   "display_name": "base",
   "language": "python",
   "name": "python3"
  },
  "language_info": {
   "codemirror_mode": {
    "name": "ipython",
    "version": 3
   },
   "file_extension": ".py",
   "mimetype": "text/x-python",
   "name": "python",
   "nbconvert_exporter": "python",
   "pygments_lexer": "ipython3",
   "version": "3.11.5"
  }
 },
 "nbformat": 4,
 "nbformat_minor": 2
}
